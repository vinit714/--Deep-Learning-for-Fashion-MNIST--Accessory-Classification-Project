{
 "cells": [
  {
   "cell_type": "markdown",
   "id": "15814474",
   "metadata": {},
   "source": [
    "# Deep Learning for Fashion-MNIST: Accessory Classification Project"
   ]
  },
  {
   "cell_type": "markdown",
   "id": "ea4e0cf1",
   "metadata": {},
   "source": [
    "Import Libraries"
   ]
  },
  {
   "cell_type": "code",
   "execution_count": 35,
   "id": "09ea6672",
   "metadata": {},
   "outputs": [],
   "source": [
    "import numpy as np\n",
    "import matplotlib.pyplot as plt\n",
    "from tensorflow.keras.datasets import fashion_mnist\n",
    "from tensorflow.keras.models import Sequential\n",
    "from tensorflow.keras.layers import Conv2D, MaxPooling2D, Flatten, Dense\n",
    "from tensorflow.keras.utils import to_categorical\n",
    "from sklearn.metrics import confusion_matrix, classification_report\n",
    "from tensorflow.keras.preprocessing.image import ImageDataGenerator\n",
    "from tensorflow.keras.callbacks import EarlyStopping, ModelCheckpoint, LearningRateScheduler"
   ]
  },
  {
   "cell_type": "markdown",
   "id": "166f532e",
   "metadata": {},
   "source": [
    "Normalize images"
   ]
  },
  {
   "cell_type": "code",
   "execution_count": 36,
   "id": "b9a044ef",
   "metadata": {},
   "outputs": [],
   "source": [
    "(x_train, y_train), (x_test, y_test) = fashion_mnist.load_data()\n",
    "\n",
    "x_train = x_train.reshape(x_train.shape[0], 28, 28, 1).astype('float32') / 255\n",
    "x_test = x_test.reshape(x_test.shape[0], 28, 28, 1).astype('float32') / 255"
   ]
  },
  {
   "cell_type": "code",
   "execution_count": 37,
   "id": "d323c4f8",
   "metadata": {},
   "outputs": [
    {
     "name": "stdout",
     "output_type": "stream",
     "text": [
      "Training data shape: (60000, 28, 28, 1)\n",
      "Testing data shape: (10000, 28, 28, 1)\n"
     ]
    }
   ],
   "source": [
    "print(\"Training data shape:\", x_train.shape)\n",
    "print(\"Testing data shape:\", x_test.shape)"
   ]
  },
  {
   "cell_type": "code",
   "execution_count": 38,
   "id": "1c5b15a8",
   "metadata": {},
   "outputs": [],
   "source": [
    "y_train = to_categorical(y_train, 10)\n",
    "y_test = to_categorical(y_test, 10)"
   ]
  },
  {
   "cell_type": "code",
   "execution_count": 39,
   "id": "3a0d7f30",
   "metadata": {},
   "outputs": [
    {
     "name": "stdout",
     "output_type": "stream",
     "text": [
      "Training labels shape: (60000, 10)\n",
      "Testing labels shape: (10000, 10)\n"
     ]
    }
   ],
   "source": [
    "print(\"Training labels shape:\", y_train.shape)\n",
    "print(\"Testing labels shape:\", y_test.shape)"
   ]
  },
  {
   "cell_type": "markdown",
   "id": "3571070d",
   "metadata": {},
   "source": [
    "Build a CNN Architecture"
   ]
  },
  {
   "cell_type": "code",
   "execution_count": 40,
   "id": "0765fc42",
   "metadata": {},
   "outputs": [],
   "source": [
    "model = Sequential()\n",
    "model.add(Conv2D(32, (3, 3), activation='relu', input_shape=(28, 28, 1)))\n",
    "model.add(MaxPooling2D((2, 2)))\n",
    "model.add(Conv2D(64, (3, 3), activation='relu'))\n",
    "model.add(MaxPooling2D((2, 2)))\n",
    "model.add(Conv2D(64, (3, 3), activation='relu'))\n",
    "model.add(Flatten())\n",
    "model.add(Dense(64, activation='relu'))\n",
    "model.add(Dense(10, activation='softmax'))\n",
    "\n",
    "model.compile(optimizer='adam', loss='categorical_crossentropy', metrics=['accuracy'])"
   ]
  },
  {
   "cell_type": "code",
   "execution_count": 41,
   "id": "a5ad5036",
   "metadata": {},
   "outputs": [
    {
     "name": "stdout",
     "output_type": "stream",
     "text": [
      "Model: \"sequential_2\"\n",
      "_________________________________________________________________\n",
      " Layer (type)                Output Shape              Param #   \n",
      "=================================================================\n",
      " conv2d_6 (Conv2D)           (None, 26, 26, 32)        320       \n",
      "                                                                 \n",
      " max_pooling2d_4 (MaxPooling  (None, 13, 13, 32)       0         \n",
      " 2D)                                                             \n",
      "                                                                 \n",
      " conv2d_7 (Conv2D)           (None, 11, 11, 64)        18496     \n",
      "                                                                 \n",
      " max_pooling2d_5 (MaxPooling  (None, 5, 5, 64)         0         \n",
      " 2D)                                                             \n",
      "                                                                 \n",
      " conv2d_8 (Conv2D)           (None, 3, 3, 64)          36928     \n",
      "                                                                 \n",
      " flatten_2 (Flatten)         (None, 576)               0         \n",
      "                                                                 \n",
      " dense_4 (Dense)             (None, 64)                36928     \n",
      "                                                                 \n",
      " dense_5 (Dense)             (None, 10)                650       \n",
      "                                                                 \n",
      "=================================================================\n",
      "Total params: 93,322\n",
      "Trainable params: 93,322\n",
      "Non-trainable params: 0\n",
      "_________________________________________________________________\n"
     ]
    }
   ],
   "source": [
    "model.summary()"
   ]
  },
  {
   "cell_type": "code",
   "execution_count": 42,
   "id": "a6d3dee9",
   "metadata": {},
   "outputs": [],
   "source": [
    "datagen = ImageDataGenerator(\n",
    "    rotation_range=20,\n",
    "    width_shift_range=0.2,\n",
    "    height_shift_range=0.2,\n",
    "    shear_range=0.2,\n",
    "    zoom_range=0.2,\n",
    "    horizontal_flip=True,\n",
    "    fill_mode='nearest'\n",
    ")"
   ]
  },
  {
   "cell_type": "code",
   "execution_count": 43,
   "id": "0c5b1c56",
   "metadata": {},
   "outputs": [],
   "source": [
    "def lr_scheduler(epoch, lr):\n",
    "    if epoch < 5:\n",
    "        return lr\n",
    "    else:\n",
    "        return lr * np.exp(-0.1)\n",
    "\n",
    "lr_schedule = LearningRateScheduler(lr_scheduler)"
   ]
  },
  {
   "cell_type": "code",
   "execution_count": 44,
   "id": "a09bcdad",
   "metadata": {},
   "outputs": [],
   "source": [
    "early_stopping = EarlyStopping(monitor='val_loss', patience=3, restore_best_weights=True)"
   ]
  },
  {
   "cell_type": "code",
   "execution_count": 45,
   "id": "3e4e33c7",
   "metadata": {},
   "outputs": [],
   "source": [
    "model_checkpoint = ModelCheckpoint('best_model.h5', save_best_only=True)"
   ]
  },
  {
   "cell_type": "code",
   "execution_count": 46,
   "id": "9e9b8fd4",
   "metadata": {},
   "outputs": [
    {
     "name": "stdout",
     "output_type": "stream",
     "text": [
      "\n",
      "Training with data augmentation...\n",
      "Epoch 1/20\n",
      "1875/1875 [==============================] - 36s 19ms/step - loss: 0.9512 - accuracy: 0.6441 - val_loss: 0.6349 - val_accuracy: 0.7593 - lr: 0.0010\n",
      "Epoch 2/20\n",
      "1875/1875 [==============================] - 35s 19ms/step - loss: 0.6921 - accuracy: 0.7406 - val_loss: 0.5708 - val_accuracy: 0.7833 - lr: 0.0010\n",
      "Epoch 3/20\n",
      "1875/1875 [==============================] - 38s 20ms/step - loss: 0.6185 - accuracy: 0.7658 - val_loss: 0.5256 - val_accuracy: 0.8043 - lr: 0.0010\n",
      "Epoch 4/20\n",
      "1875/1875 [==============================] - 36s 19ms/step - loss: 0.5664 - accuracy: 0.7869 - val_loss: 0.4491 - val_accuracy: 0.8341 - lr: 0.0010\n",
      "Epoch 5/20\n",
      "1875/1875 [==============================] - 36s 19ms/step - loss: 0.5360 - accuracy: 0.7997 - val_loss: 0.4538 - val_accuracy: 0.8339 - lr: 0.0010\n",
      "Epoch 6/20\n",
      "1875/1875 [==============================] - 36s 19ms/step - loss: 0.5065 - accuracy: 0.8119 - val_loss: 0.4415 - val_accuracy: 0.8393 - lr: 9.0484e-04\n",
      "Epoch 7/20\n",
      "1875/1875 [==============================] - 36s 19ms/step - loss: 0.4863 - accuracy: 0.8187 - val_loss: 0.4165 - val_accuracy: 0.8511 - lr: 8.1873e-04\n",
      "Epoch 8/20\n",
      "1875/1875 [==============================] - 35s 19ms/step - loss: 0.4651 - accuracy: 0.8264 - val_loss: 0.4029 - val_accuracy: 0.8502 - lr: 7.4082e-04\n",
      "Epoch 9/20\n",
      "1875/1875 [==============================] - 36s 19ms/step - loss: 0.4464 - accuracy: 0.8346 - val_loss: 0.3790 - val_accuracy: 0.8650 - lr: 6.7032e-04\n",
      "Epoch 10/20\n",
      "1875/1875 [==============================] - 37s 20ms/step - loss: 0.4354 - accuracy: 0.8378 - val_loss: 0.4014 - val_accuracy: 0.8556 - lr: 6.0653e-04\n",
      "Epoch 11/20\n",
      "1875/1875 [==============================] - 35s 19ms/step - loss: 0.4259 - accuracy: 0.8430 - val_loss: 0.3958 - val_accuracy: 0.8578 - lr: 5.4881e-04\n",
      "Epoch 12/20\n",
      "1875/1875 [==============================] - 36s 19ms/step - loss: 0.4165 - accuracy: 0.8450 - val_loss: 0.3661 - val_accuracy: 0.8684 - lr: 4.9659e-04\n",
      "Epoch 13/20\n",
      "1875/1875 [==============================] - 36s 19ms/step - loss: 0.4111 - accuracy: 0.8466 - val_loss: 0.3782 - val_accuracy: 0.8667 - lr: 4.4933e-04\n",
      "Epoch 14/20\n",
      "1875/1875 [==============================] - 36s 19ms/step - loss: 0.4019 - accuracy: 0.8510 - val_loss: 0.3612 - val_accuracy: 0.8694 - lr: 4.0657e-04\n",
      "Epoch 15/20\n",
      "1875/1875 [==============================] - 36s 19ms/step - loss: 0.3957 - accuracy: 0.8552 - val_loss: 0.3790 - val_accuracy: 0.8645 - lr: 3.6788e-04\n",
      "Epoch 16/20\n",
      "1875/1875 [==============================] - 36s 19ms/step - loss: 0.3917 - accuracy: 0.8562 - val_loss: 0.3927 - val_accuracy: 0.8571 - lr: 3.3287e-04\n",
      "Epoch 17/20\n",
      "1875/1875 [==============================] - 37s 20ms/step - loss: 0.3823 - accuracy: 0.8577 - val_loss: 0.3517 - val_accuracy: 0.8748 - lr: 3.0119e-04\n",
      "Epoch 18/20\n",
      "1875/1875 [==============================] - 37s 19ms/step - loss: 0.3780 - accuracy: 0.8599 - val_loss: 0.3614 - val_accuracy: 0.8685 - lr: 2.7253e-04\n",
      "Epoch 19/20\n",
      "1875/1875 [==============================] - 36s 19ms/step - loss: 0.3764 - accuracy: 0.8603 - val_loss: 0.3646 - val_accuracy: 0.8671 - lr: 2.4660e-04\n",
      "Epoch 20/20\n",
      "1875/1875 [==============================] - 35s 19ms/step - loss: 0.3686 - accuracy: 0.8641 - val_loss: 0.3725 - val_accuracy: 0.8672 - lr: 2.2313e-04\n"
     ]
    }
   ],
   "source": [
    "print(\"\\nTraining with data augmentation...\")\n",
    "history = model.fit(\n",
    "    datagen.flow(x_train, y_train, batch_size=32),\n",
    "    epochs=20,\n",
    "    validation_data=(x_test, y_test),\n",
    "    callbacks=[lr_schedule, early_stopping, model_checkpoint]\n",
    ")"
   ]
  },
  {
   "cell_type": "markdown",
   "id": "60269bd0",
   "metadata": {},
   "source": [
    "Depict loss vs. val_loss on a line chart"
   ]
  },
  {
   "cell_type": "code",
   "execution_count": 47,
   "id": "08d2fcb2",
   "metadata": {},
   "outputs": [
    {
     "data": {
      "image/png": "[encoded data removed]",
      "text/plain": [
       "<Figure size 640x480 with 1 Axes>"
      ]
     },
     "metadata": {},
     "output_type": "display_data"
    }
   ],
   "source": [
    "plt.plot(history.history['loss'], label='loss')\n",
    "plt.plot(history.history['val_loss'], label='val_loss')\n",
    "plt.legend()\n",
    "plt.xlabel('Epochs')\n",
    "plt.ylabel('Loss')\n",
    "plt.title('Training and Validation Loss')\n",
    "plt.show()"
   ]
  },
  {
   "cell_type": "markdown",
   "id": "3164ab1d",
   "metadata": {},
   "source": [
    "Depict accuracy vs. val_accuracy on a line chart"
   ]
  },
  {
   "cell_type": "code",
   "execution_count": 48,
   "id": "e3ecf6ac",
   "metadata": {},
   "outputs": [
    {
     "data": {
      "image/png": "[encoded data removed]",
      "text/plain": [
       "<Figure size 640x480 with 1 Axes>"
      ]
     },
     "metadata": {},
     "output_type": "display_data"
    }
   ],
   "source": [
    "plt.plot(history.history['accuracy'], label='accuracy')\n",
    "plt.plot(history.history['val_accuracy'], label='val_accuracy')\n",
    "plt.legend()\n",
    "plt.xlabel('Epochs')\n",
    "plt.ylabel('Accuracy')\n",
    "plt.title('Training and Validation Accuracy')\n",
    "plt.show()"
   ]
  },
  {
   "cell_type": "code",
   "execution_count": 49,
   "id": "e4cc554d",
   "metadata": {},
   "outputs": [
    {
     "name": "stdout",
     "output_type": "stream",
     "text": [
      "313/313 [==============================] - 1s 5ms/step\n"
     ]
    }
   ],
   "source": [
    "predictions = model.predict(x_test)"
   ]
  },
  {
   "cell_type": "markdown",
   "id": "4daf67b5",
   "metadata": {},
   "source": [
    "Compute confusion matrix and classification report"
   ]
  },
  {
   "cell_type": "code",
   "execution_count": 50,
   "id": "470f36a2",
   "metadata": {},
   "outputs": [],
   "source": [
    "predicted_labels = np.argmax(predictions, axis=1)\n",
    "true_labels = np.argmax(y_test, axis=1)\n",
    "\n",
    "conf_matrix = confusion_matrix(true_labels, predicted_labels)\n",
    "class_report = classification_report(true_labels, predicted_labels)"
   ]
  },
  {
   "cell_type": "code",
   "execution_count": 51,
   "id": "0f0cbec8",
   "metadata": {},
   "outputs": [
    {
     "name": "stdout",
     "output_type": "stream",
     "text": [
      "Confusion Matrix:\n",
      " [[866   0  18  11   5   1  87   0  10   2]\n",
      " [  2 972   2  13   1   1   4   0   2   3]\n",
      " [ 15   0 833   6  52   0  93   0   1   0]\n",
      " [ 75   8  13 787  34   4  74   0   1   4]\n",
      " [  2   1  35  17 789   2 145   0   9   0]\n",
      " [  0   0   0   0   0 964   0  30   0   6]\n",
      " [173   0  77  10  70   0 656   0  12   2]\n",
      " [  0   0   0   0   0  21   0 950   0  29]\n",
      " [  2   0   5   0   3   2   5   4 979   0]\n",
      " [  0   0   0   0   0   8   0  39   1 952]]\n"
     ]
    }
   ],
   "source": [
    "print(\"Confusion Matrix:\\n\", conf_matrix)"
   ]
  },
  {
   "cell_type": "code",
   "execution_count": 52,
   "id": "b94f018f",
   "metadata": {},
   "outputs": [
    {
     "name": "stdout",
     "output_type": "stream",
     "text": [
      "\n",
      "Classification Report:\n",
      "               precision    recall  f1-score   support\n",
      "\n",
      "           0       0.76      0.87      0.81      1000\n",
      "           1       0.99      0.97      0.98      1000\n",
      "           2       0.85      0.83      0.84      1000\n",
      "           3       0.93      0.79      0.85      1000\n",
      "           4       0.83      0.79      0.81      1000\n",
      "           5       0.96      0.96      0.96      1000\n",
      "           6       0.62      0.66      0.64      1000\n",
      "           7       0.93      0.95      0.94      1000\n",
      "           8       0.96      0.98      0.97      1000\n",
      "           9       0.95      0.95      0.95      1000\n",
      "\n",
      "    accuracy                           0.87     10000\n",
      "   macro avg       0.88      0.87      0.88     10000\n",
      "weighted avg       0.88      0.87      0.88     10000\n",
      "\n"
     ]
    }
   ],
   "source": [
    "print(\"\\nClassification Report:\\n\", class_report)"
   ]
  },
  {
   "cell_type": "code",
   "execution_count": 53,
   "id": "2c736169",
   "metadata": {},
   "outputs": [
    {
     "name": "stdout",
     "output_type": "stream",
     "text": [
      "\n",
      "Final Training Accuracy: 0.8641\n",
      "Final Validation Accuracy: 0.8672\n"
     ]
    }
   ],
   "source": [
    "final_accuracy = history.history['accuracy'][-1]\n",
    "final_val_accuracy = history.history['val_accuracy'][-1]\n",
    "print(f\"\\nFinal Training Accuracy: {final_accuracy:.4f}\")\n",
    "print(f\"Final Validation Accuracy: {final_val_accuracy:.4f}\")"
   ]
  },
  {
   "cell_type": "code",
   "execution_count": null,
   "id": "d8ac7a4e",
   "metadata": {},
   "outputs": [],
   "source": []
  }
 ],
 "metadata": {
  "kernelspec": {
   "display_name": "Python 3 (ipykernel)",
   "language": "python",
   "name": "python3"
  },
  "language_info": {
   "codemirror_mode": {
    "name": "ipython",
    "version": 3
   },
   "file_extension": ".py",
   "mimetype": "text/x-python",
   "name": "python",
   "nbconvert_exporter": "python",
   "pygments_lexer": "ipython3",
   "version": "3.9.13"
  }
 },
 "nbformat": 4,
 "nbformat_minor": 5
}
